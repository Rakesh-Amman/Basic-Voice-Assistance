{
 "cells": [
  {
   "cell_type": "code",
   "execution_count": 22,
   "metadata": {},
   "outputs": [],
   "source": [
    "import re #Regular expressionas\n",
    "from nltk.corpus import stopwords\n",
    "from nltk.stem.porter import PorterStemmer\n",
    "import speech_recognition as sr\n",
    "from gtts import gTTS #Google text to speech\n",
    "from pygame import mixer\n",
    "mixer.init()"
   ]
  },
  {
   "cell_type": "code",
   "execution_count": 34,
   "metadata": {},
   "outputs": [],
   "source": [
    "def stotex():\n",
    "    r = sr.Recognizer() #Recognizer instance\n",
    "    with sr.Microphone() as source:\n",
    "        r.adjust_for_ambient_noise(source, duration=1) #handle noise\n",
    "        print(\"Your command please!\")\n",
    "        audio = r.listen(source) #listen to audio via microphone\n",
    " \n",
    "\n",
    "    try:\n",
    "        response = r.recognize_google(audio) #recognizing the audio in english (default language)\n",
    "        print(\"I think you said '\" + response + \"'\")\n",
    "        tts = gTTS(text=str(response)+ '  ' +'    done', lang='en')\n",
    "        tts.save(r\"C:\\Users\\Rakesh Amman\\Desktop\\Projects\\response20.mp3\")\n",
    " \n",
    "    except sr.UnknownValueError:\n",
    "        print(\"Sorry could not understand audio\")\n",
    "    return response"
   ]
  },
  {
   "cell_type": "code",
   "execution_count": 35,
   "metadata": {},
   "outputs": [],
   "source": [
    "#Pre processing Training data i.e. commands\n",
    "def preprocessingdata(data):\n",
    "    corpus = []\n",
    "    for i in data:\n",
    "        review = re.sub('[^a-zA-Z]', ' ', i) \n",
    "        review = review.lower() # change to lower case letters\n",
    "        review = review.split() # convert to list of words\n",
    "        ps = PorterStemmer()\n",
    "        review = [ps.stem(word) for word in review if not word in set(stopwords.words('english'))]\n",
    "        review = ' '.join(review) \n",
    "        corpus.append(review)\n",
    "    return corpus"
   ]
  },
  {
   "cell_type": "code",
   "execution_count": 36,
   "metadata": {},
   "outputs": [
    {
     "data": {
      "text/plain": [
       "['play radio',\n",
       " 'paus radio',\n",
       " 'play next station',\n",
       " 'open set',\n",
       " 'help',\n",
       " 'open sunroof',\n",
       " 'close sunroof',\n",
       " 'make call',\n",
       " 'open map',\n",
       " 'play next song']"
      ]
     },
     "execution_count": 36,
     "metadata": {},
     "output_type": "execute_result"
    }
   ],
   "source": [
    "commands=['Play Radio', 'Pause Radio', 'Play Next Station', 'Open settings', 'help', 'Open the sunroof', 'Close the sunroof', \n",
    "         'make a call', 'Open Map','Play Next Song']\n",
    "proccomm=preprocessingdata(commands)\n",
    "proccomm"
   ]
  },
  {
   "cell_type": "code",
   "execution_count": 37,
   "metadata": {},
   "outputs": [],
   "source": [
    "#Pre processing audio text data\n",
    "def preprocessingdatastr(data):\n",
    "    corpus = []\n",
    "    \n",
    "    review = re.sub('[^a-zA-Z]', ' ', data) \n",
    "    review = review.lower() # change to lower case letters\n",
    "    review = review.split() # convert to list of words\n",
    "    ps = PorterStemmer()\n",
    "    review = [ps.stem(word) for word in review if not word in set(stopwords.words('english'))]\n",
    "    review = ' '.join(review) \n",
    "    corpus.append(review)\n",
    "    return corpus"
   ]
  },
  {
   "cell_type": "code",
   "execution_count": 38,
   "metadata": {},
   "outputs": [
    {
     "name": "stdout",
     "output_type": "stream",
     "text": [
      ".\n",
      "hi\n",
      "Welcome to automated voice assistance!\n",
      "Your command please!\n",
      "I think you said 'open settings'\n",
      "The user response is:: open settings\n",
      "open set\n"
     ]
    }
   ],
   "source": [
    "# Turning on the Voice assistance\n",
    "r = sr.Recognizer()\n",
    "with sr.Microphone() as source:\n",
    "    r.adjust_for_ambient_noise(source, duration=1)\n",
    "    print(\".\")\n",
    "    audio = r.listen(source)\n",
    "try:\n",
    "    response = r.recognize_google(audio)\n",
    "    print(response)\n",
    "    \n",
    "    if(response=='hi'): #Entering speech assistance\n",
    "        print(\"Welcome to automated voice assistance!\")\n",
    "        mixer.music.load(r'C:\\Users\\Rakesh Amman\\Desktop\\Projects\\welcome.mp3')\n",
    "        mixer.music.play()\n",
    "        \n",
    "    \n",
    "        flag=True\n",
    "        while(flag==True):\n",
    "            user_response= stotex() #input\n",
    "            user_output=preprocessingdatastr(user_response) #Preprocessing\n",
    "            for i in user_output:\n",
    "                user_output=i\n",
    "            if(user_output in proccomm): #Validation\n",
    "                flag= False\n",
    "                print('The user response is::',user_response )\n",
    "                mixer.music.load(r'C:\\Users\\Rakesh Amman\\Desktop\\Projects\\response20.mp3')\n",
    "                mixer.music.play()\n",
    "            else:\n",
    "                print(\"Hey, the voice assistant could not find your response\")\n",
    "                flag=False\n",
    "        print(user_output)\n",
    "    \n",
    "except sr.UnknownValueError:\n",
    "        print()\n",
    "        \n",
    "    \n"
   ]
  },
  {
   "cell_type": "code",
   "execution_count": null,
   "metadata": {},
   "outputs": [],
   "source": []
  }
 ],
 "metadata": {
  "kernelspec": {
   "display_name": "Python 3",
   "language": "python",
   "name": "python3"
  },
  "language_info": {
   "codemirror_mode": {
    "name": "ipython",
    "version": 3
   },
   "file_extension": ".py",
   "mimetype": "text/x-python",
   "name": "python",
   "nbconvert_exporter": "python",
   "pygments_lexer": "ipython3",
   "version": "3.7.3"
  }
 },
 "nbformat": 4,
 "nbformat_minor": 2
}
